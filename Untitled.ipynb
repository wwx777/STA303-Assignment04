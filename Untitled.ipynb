{
 "cells": [
  {
   "cell_type": "code",
   "execution_count": 24,
   "id": "a57baeed-5084-4b72-8c0b-b23610be7a21",
   "metadata": {},
   "outputs": [
    {
     "name": "stdout",
     "output_type": "stream",
     "text": [
      "Experiment--Data : Mnist, Model : ResNet101, Score : THR, Predictor : SplitPredictor, Alpha : 0.1\n",
      "The size of calibration set is 30000.\n",
      "Evaluation Results:\n",
      "Coverage_rate: 0.8630333333333333\n",
      "Average_size: 911.3771666666667\n"
     ]
    }
   ],
   "source": [
    "! python mnist_example.py  "
   ]
  },
  {
   "cell_type": "code",
   "execution_count": 28,
   "id": "7602d1c2-db4d-4a5e-9649-98ba5918d970",
   "metadata": {},
   "outputs": [
    {
     "name": "stdout",
     "output_type": "stream",
     "text": [
      "Experiment--Data : Mnist, Model : ResNet101, Score : APS, Predictor : SplitPredictor, Alpha : 0.1\n",
      "The size of calibration set is 30000.\n",
      "Evaluation Results:\n",
      "Coverage_rate: 0.8971666666666667\n",
      "Average_size: 929.7887\n"
     ]
    }
   ],
   "source": [
    "! python mnist_example2.py"
   ]
  },
  {
   "cell_type": "code",
   "execution_count": 35,
   "id": "d132faa8-534e-4a5d-ac51-8cd8ccd895bf",
   "metadata": {},
   "outputs": [
    {
     "name": "stdout",
     "output_type": "stream",
     "text": [
      "Experiment--Data : Mnist, Model : ResNet101, Score : SAPS, Predictor : SplitPredictor, Alpha : 0.1\n",
      "The size of calibration set is 30000.\n",
      "Evaluation Results:\n",
      "Coverage_rate: 0.8992333333333333\n",
      "Average_size: 897.2677666666667\n"
     ]
    }
   ],
   "source": [
    "! python mnist_example3.py"
   ]
  },
  {
   "cell_type": "code",
   "execution_count": 34,
   "id": "71cf04ac-0ea4-49df-a18e-ba58e0d121c1",
   "metadata": {
    "jupyter": {
     "source_hidden": true
    }
   },
   "outputs": [
    {
     "name": "stdout",
     "output_type": "stream",
     "text": [
      "Experiment--Data : Mnist, Model : ResNet101, Score : RAPS, Predictor : SplitPredictor, Alpha : 0.1\n",
      "The size of calibration set is 30000.\n",
      "Evaluation Results:\n",
      "Coverage_rate: 0.8993333333333333\n",
      "Average_size: 896.3686\n"
     ]
    }
   ],
   "source": [
    "! python mnist_example4.py"
   ]
  },
  {
   "cell_type": "code",
   "execution_count": 36,
   "id": "958439e6-7232-4b0f-b02a-446854e8f215",
   "metadata": {},
   "outputs": [
    {
     "name": "stdout",
     "output_type": "stream",
     "text": [
      "Files already downloaded and verified\n",
      "50000\n",
      "Experiment--Data : cifar10, Model : ResNet101, Score : THR, Predictor : SplitPredictor, Alpha : 0.1\n",
      "The size of calibration set is 25000.\n",
      "Evaluation Results:\n",
      "Coverage_rate: 0.45024\n",
      "Average_size: 486.35664\n"
     ]
    }
   ],
   "source": [
    "! python cifar10_example.py"
   ]
  },
  {
   "cell_type": "code",
   "execution_count": 37,
   "id": "c1b9238c-95ae-40d4-9d3a-34bc63cc088f",
   "metadata": {},
   "outputs": [
    {
     "name": "stdout",
     "output_type": "stream",
     "text": [
      "Files already downloaded and verified\n",
      "50000\n",
      "Experiment--Data : cifar10, Model : ResNet101, Score : APS, Predictor : SplitPredictor, Alpha : 0.1\n",
      "The size of calibration set is 25000.\n",
      "Evaluation Results:\n",
      "Coverage_rate: 0.78584\n",
      "Average_size: 805.39888\n"
     ]
    }
   ],
   "source": [
    "! python cifar10_example2.py"
   ]
  },
  {
   "cell_type": "code",
   "execution_count": 38,
   "id": "05a998ba-633b-4a44-bc7e-846ae66c3c08",
   "metadata": {},
   "outputs": [
    {
     "name": "stdout",
     "output_type": "stream",
     "text": [
      "Files already downloaded and verified\n",
      "50000\n",
      "Experiment--Data : cifar10, Model : ResNet101, Score : SAPS, Predictor : SplitPredictor, Alpha : 0.1\n",
      "The size of calibration set is 25000.\n",
      "Evaluation Results:\n",
      "Coverage_rate: 0.90356\n",
      "Average_size: 918.81976\n"
     ]
    }
   ],
   "source": [
    "! python cifar10_example3.py"
   ]
  },
  {
   "cell_type": "code",
   "execution_count": 39,
   "id": "2c969c43-9b87-4250-a3e1-ce2cde1d7717",
   "metadata": {},
   "outputs": [
    {
     "name": "stdout",
     "output_type": "stream",
     "text": [
      "Files already downloaded and verified\n",
      "50000\n",
      "Experiment--Data : cifar10, Model : ResNet101, Score : RAPS, Predictor : SplitPredictor, Alpha : 0.1\n",
      "The size of calibration set is 25000.\n",
      "Evaluation Results:\n",
      "Coverage_rate: 0.90288\n",
      "Average_size: 918.14708\n"
     ]
    }
   ],
   "source": [
    "! python cifar10_example4.py"
   ]
  },
  {
   "cell_type": "code",
   "execution_count": 1,
   "id": "29e70d3b-6d13-4616-a13b-f4dce56d1bdb",
   "metadata": {},
   "outputs": [
    {
     "name": "stdout",
     "output_type": "stream",
     "text": [
      "Experiment--Data : Mnist, Model : ResNet101, Score : THR, Predictor : ClusterPredictor, Alpha : 0.1\n",
      "The size of calibration set is 30000.\n",
      "Evaluation Results:\n",
      "Coverage_rate: 0.8630333333333333\n",
      "Average_size: 911.3771666666667\n"
     ]
    }
   ],
   "source": [
    "#different predictor\n",
    "! python p2_mnist_example.py"
   ]
  },
  {
   "cell_type": "code",
   "execution_count": 2,
   "id": "330ecaa1-9196-488e-9f7c-fee4cd71d2f6",
   "metadata": {},
   "outputs": [
    {
     "name": "stdout",
     "output_type": "stream",
     "text": [
      "Experiment--Data : Mnist, Model : ResNet101, Score : THR, Predictor : ClassWisePredictor, Alpha : 0.1\n",
      "The size of calibration set is 30000.\n",
      "Evaluation Results:\n",
      "Coverage_rate: 0.8578333333333333\n",
      "Average_size: 997.7181333333333\n"
     ]
    },
    {
     "name": "stderr",
     "output_type": "stream",
     "text": [
      "D:\\ANACONDA\\envs\\ass4\\Lib\\site-packages\\torchcp\\classification\\predictors\\split.py:61: UserWarning: The number of scores is 0, which is a invalid scores. To avoid program crash, the threshold is set as torch.inf.\n",
      "  warnings.warn(\n"
     ]
    }
   ],
   "source": [
    "! python p3_mnist_example.py"
   ]
  },
  {
   "cell_type": "code",
   "execution_count": null,
   "id": "ce82621c-c551-43a7-a0d3-fe705c763d1b",
   "metadata": {},
   "outputs": [],
   "source": []
  }
 ],
 "metadata": {
  "kernelspec": {
   "display_name": "ass4",
   "language": "python",
   "name": "ass4"
  },
  "language_info": {
   "codemirror_mode": {
    "name": "ipython",
    "version": 3
   },
   "file_extension": ".py",
   "mimetype": "text/x-python",
   "name": "python",
   "nbconvert_exporter": "python",
   "pygments_lexer": "ipython3",
   "version": "3.11.7"
  }
 },
 "nbformat": 4,
 "nbformat_minor": 5
}
